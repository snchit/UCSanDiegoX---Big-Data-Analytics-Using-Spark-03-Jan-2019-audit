{
  "nbformat": 4,
  "nbformat_minor": 0,
  "metadata": {
    "colab": {
      "name": "collinearPoints.ipynb",
      "version": "0.3.2",
      "provenance": [],
      "include_colab_link": true
    },
    "kernelspec": {
      "name": "python3",
      "display_name": "Python 3"
    },
    "accelerator": "GPU"
  },
  "cells": [
    {
      "cell_type": "markdown",
      "metadata": {
        "id": "view-in-github",
        "colab_type": "text"
      },
      "source": [
        "<a href=\"https://colab.research.google.com/github/Data-Science-and-Data-Analytics-Courses/UCSanDiegoX---Big-Data-Analytics-Using-Spark-03-Jan-2019-audit/blob/master/Map-Reduce%20and%20Spark%20(Weeks%201%20%26%202)/pa1/collinearPoints.ipynb\" target=\"_parent\"><img src=\"https://colab.research.google.com/assets/colab-badge.svg\" alt=\"Open In Colab\"/></a>"
      ]
    },
    {
      "metadata": {
        "id": "f5j89eWj4zJT",
        "colab_type": "text"
      },
      "cell_type": "markdown",
      "source": [
        "# Programming Assignment 1: Collinear Points\n",
        "\n",
        "For this programming assignment, we'll be using a Jupyter notebook."
      ]
    },
    {
      "metadata": {
        "id": "5xgrlAw25Baf",
        "colab_type": "text"
      },
      "cell_type": "markdown",
      "source": [
        "# Clone remote"
      ]
    },
    {
      "metadata": {
        "id": "_zp0PMrk5Bnk",
        "colab_type": "code",
        "colab": {
          "base_uri": "https://localhost:8080/",
          "height": 136
        },
        "outputId": "f7169b3d-beec-4ed2-95f8-f34dca0016a6"
      },
      "cell_type": "code",
      "source": [
        "import os, sys\n",
        "from urllib.parse import urlsplit\n",
        "from pathlib import Path\n",
        "\n",
        "URL = \"https://github.com/Data-Science-and-Data-Analytics-Courses/UCSanDiegoX---Big-Data-Analytics-Using-Spark-03-Jan-2019-audit\"\n",
        "nbdir_rel = \"Map-Reduce and Spark (Weeks 1 & 2)/pa1\"\n",
        "\n",
        "def clone(url, dest=\".\", name=\"\", options=\"--single-branch -b master\", reloc=True):\n",
        "  \"\"\"\n",
        "  Clone url into dest\n",
        "  name: if provided, rename repository\n",
        "  options: supported by git-clone (https://git-scm.com/docs/git-clone)\n",
        "  reloc: if True, relocate to repository\n",
        "  \"\"\"\n",
        "\n",
        "  rurl = urlsplit(url)\n",
        "  dest = Path(dest).resolve()\n",
        "  repo = dest / (name or Path(rurl.path).name)\n",
        "\n",
        "  # Nested repositories not allowed\n",
        "  out = !git -C \"{dest}\" rev-parse\n",
        "  if not out: # inside repository\n",
        "    raise ValueError(\"Can't clone into existing repository\")\n",
        "  \n",
        "  # Clone\n",
        "  !git clone {options} \"{rurl.geturl()}\" \"{repo}\"\n",
        "  \n",
        "  # Relocate\n",
        "  if reloc:\n",
        "    os.chdir(repo)\n",
        "\n",
        "  return repo\n",
        "\n",
        "REPO = clone(URL)\n",
        "NBDIR = REPO/nbdir_rel\n",
        "sys.path.append(REPO)\n",
        "%cd \"{NBDIR}\""
      ],
      "execution_count": 1,
      "outputs": [
        {
          "output_type": "stream",
          "text": [
            "Cloning into '/content/UCSanDiegoX---Big-Data-Analytics-Using-Spark-03-Jan-2019-audit'...\n",
            "remote: Enumerating objects: 54, done.\u001b[K\n",
            "remote: Counting objects: 100% (54/54), done.\u001b[K\n",
            "remote: Compressing objects: 100% (49/49), done.\u001b[K\n",
            "remote: Total 54 (delta 22), reused 13 (delta 2), pack-reused 0\u001b[K\n",
            "Unpacking objects: 100% (54/54), done.\n",
            "/content/UCSanDiegoX---Big-Data-Analytics-Using-Spark-03-Jan-2019-audit/Map-Reduce and Spark (Weeks 1 & 2)/pa1\n"
          ],
          "name": "stdout"
        }
      ]
    },
    {
      "metadata": {
        "deletable": false,
        "editable": false,
        "heading_collapsed": true,
        "nbgrader": {
          "checksum": "f4e222b48ed46c0ab537391897eed067",
          "grade": false,
          "grade_id": "cell-ba30def68618f26e",
          "locked": true,
          "schema_version": 1,
          "solution": false
        },
        "id": "HVk_cCfF4zJW",
        "colab_type": "text"
      },
      "cell_type": "markdown",
      "source": [
        "## Background"
      ]
    },
    {
      "metadata": {
        "deletable": false,
        "editable": false,
        "hidden": true,
        "nbgrader": {
          "checksum": "17d6b33bbc9c1b51f0be943c2e8a2ab1",
          "grade": false,
          "grade_id": "cell-1f0aaa1b0eeb62ff",
          "locked": true,
          "schema_version": 1,
          "solution": false
        },
        "id": "qK4-d8MM4zJY",
        "colab_type": "text"
      },
      "cell_type": "markdown",
      "source": [
        "### Collinear points\n",
        "\n",
        "Definition of collinearity[1]: In geometry, collinearity of a set of points is the property of their lying on a single line. A set of points with this property is said to be collinear.\n",
        "\n",
        "![](https://github.com/Data-Science-and-Data-Analytics-Courses/UCSanDiegoX---Big-Data-Analytics-Using-Spark-03-Jan-2019-audit/blob/master/Map-Reduce%20and%20Spark%20(Weeks%201%20%26%202)/pa1/non-collinear-points.jpg?raw=1)\n",
        "\n",
        "Here, points P,Q,R and A,R,B are collinear. However, points A,B,C are non-collinear. For more, refer [2].\n",
        "\n",
        "1. https://en.wikipedia.org/wiki/Collinearity\n",
        "2. http://www.mathcaptain.com/geometry/collinear-points.html"
      ]
    },
    {
      "metadata": {
        "deletable": false,
        "editable": false,
        "hidden": true,
        "nbgrader": {
          "checksum": "8b74e3ea5a2dfa8d91885978ff56d8fe",
          "grade": false,
          "grade_id": "cell-888539157720ea6e",
          "locked": true,
          "schema_version": 1,
          "solution": false
        },
        "id": "cMKssaQL4zJa",
        "colab_type": "text"
      },
      "cell_type": "markdown",
      "source": [
        "### Parameterizing lines\n",
        "In order to determine whether a set of points all lie on the same line we need a standard way to define (or parametrize) a line.\n",
        "\n",
        "* One way of defining a line is as the set of points $(x,y)$ such that $y=ax+b$ for some fixed real values $a,b$.\n",
        "* We call $a$ the **slope** of the line and $b$ is the $y$-intercept which is defined as the value of $y$ when $x=0$.\n",
        "* This parameterization works for *almost* all lines. It does not work for vertical lines. For those lines we define $a$ to be **infinity** and $b$ to be the $x$ intercept of the line (the line is parallel to the $y$ axis so it does not intercept the $y$ axis (other than if it is the vertical line going through the origin).\n",
        "\n",
        "To summarize, given two different points $(x_1,y_1) \\neq (x_2,y_2)$, we define the parameterization $(a,b)$ as:\n",
        "* **if $x_1=x_2$: ** $(\\mbox{Inf},x_1)$ \n",
        "* **Else:** $(a,b)$ such that $y_1=a x_1 +b$ and $y_2=a x_2 +b$.\n"
      ]
    },
    {
      "metadata": {
        "deletable": false,
        "editable": false,
        "nbgrader": {
          "checksum": "419f1ac5599d4ec61cb37edf7f0e59a1",
          "grade": false,
          "grade_id": "cell-a2b044c997c9d772",
          "locked": true,
          "schema_version": 1,
          "solution": false
        },
        "id": "705GQzm84zJb",
        "colab_type": "text"
      },
      "cell_type": "markdown",
      "source": [
        "## Task\n",
        "\n",
        "Given an input file with an arbitrary set of co-ordinates, your task is to use pyspark library functions and write a program in python3 to find if three or more points are collinear.\n",
        "\n",
        "For instance, if given these points: {(1,1), (0,1), (2,2), (3,3), (0,5), (3,4), (5,6), (0,-3), (-2,-2)}\n",
        "\n",
        "Sets of collinear points are: {((-2,-2), (1,1), (2,2), (3,3)), ((0,1), (3,4), (5,6)), ((0,-3), (0,1), (0,5))}. Note that the ordering of the points in a set or the order of the sets does not matter. \n",
        "\n",
        "Note: \n",
        "<ul>\n",
        "  <li>Every set of collinear points has to have <b>at least three points</b> (any pair of points lie on a line).</li>\n",
        "  <li>There are two types of test cases:\n",
        "      <ul>\n",
        "      <li><b>Visible Test cases</b>: Test cases given to you as a part of the notebook. These tests will help you validate your program and figure out bugs in it if any.</li>\n",
        "      <li><b>Hidden Test cases</b>: Test cases that are not given as a part of the notebook, but will be used for grading. <br>Cells in this notebook that have \"<i>##Hidden test cases here</i>\" are read-only cells containing hidden tests.</li>\n",
        "      </ul>\n",
        "  </li>\n",
        "  <li>Any cell that does not require you to submit code cannot be modified. For example: Assert statement unit test cells. Cells that have \"**# YOUR CODE HERE**\" are the ONLY ones you will need to alter. </li>\n",
        "  <li>DO NOT change the names of functions. </li>\n",
        "  <li>Remove the \"Raise NotImplementedError()\" line when you write the definition of your function.</li>\n",
        "      \n",
        "</ul>"
      ]
    },
    {
      "metadata": {
        "deletable": false,
        "editable": false,
        "nbgrader": {
          "checksum": "2d27b8b8eebf443e6fff930102ddebe3",
          "grade": false,
          "grade_id": "cell-311d3abd841773a7",
          "locked": true,
          "schema_version": 1,
          "solution": false
        },
        "id": "1Jl_5Opn4zJd",
        "colab_type": "text"
      },
      "cell_type": "markdown",
      "source": [
        "### Description of the Approach\n",
        "\n",
        "The goal of this assignment is to make you familiar with programming using pyspark. There are many ways to find sets of collinear points from a list of points. For the purposes of this assignment, we shall stick with the below approach:\n",
        "\n",
        "1. List all pairs of points. You can do that efficiently in spark by computing cartesian product of the list of points with itself. For example, given three points $[(1,0), (2,0), (3,0)]$, we construct a list of nine pairs  \n",
        "$[((1,0),(1,0)),((1,0), (2,0)),((1,0),(3,0))$  \n",
        "$((2,0),(1,0)),((2,0), (2,0)),((2,0),(3,0))$  \n",
        "$((3,0),(1,0)),((3,0), (2,0)),((3,0),(3,0))]$  \n",
        "\n",
        "2. Remove the pairs in which the same point appears twice such as $((2,0),(2,0))$. After these elimination you end up (for this example) with a list of just six pairs:  \n",
        "$[((1,0),(2,0)),((1,0),(3,0)),((2,0),(1,0)),((2,0),(3,0)),((3,0),(1,0)),((3,0),(2,0))]$\n",
        "\n",
        "2. For each pair of points, find the parameterization $(a,b)$ of the line connecting them as described above.\n",
        "\n",
        "3. Group the pairs according to their parameters. Clearly, if two pairs have the same $(a,b)$ values, all points in the two pairs lie on the same line.\n",
        "\n",
        "3. Eliminate the groups that contain only one pair (any pair of points defines a line).\n",
        "4. In each of the remaining groups, unpack the point-pairs to identify the individual points.\n",
        "Note that if a set of points $(x_1,y_1),\\ldots,(x_k,y_k)$ lie on the same line then each point will appear $k-1$ times in the list of point-pairs. You therefore need to transform the list of points into sets to remove duplicates.\n",
        "\n",
        "5. Output the sets of 3 or more colinear points.\n",
        "\n",
        "Your task is to implement the described algorithm in Spark. You should use RDD's all the way through and collect the results into the driver only at the end."
      ]
    },
    {
      "metadata": {
        "deletable": false,
        "editable": false,
        "heading_collapsed": true,
        "nbgrader": {
          "checksum": "9da8b45157f4d30b98493dcd3b99765f",
          "grade": false,
          "grade_id": "cell-8160704dcdb034d0",
          "locked": true,
          "schema_version": 1,
          "solution": false
        },
        "id": "-G7bBsl54zJf",
        "colab_type": "text"
      },
      "cell_type": "markdown",
      "source": [
        "### Notebook Setup"
      ]
    },
    {
      "metadata": {
        "id": "pSp3G3i66eoR",
        "colab_type": "code",
        "outputId": "8d5c3647-c288-4843-ebcb-e0f9bfa387af",
        "colab": {
          "base_uri": "https://localhost:8080/",
          "height": 51
        }
      },
      "cell_type": "code",
      "source": [
        "# Install packages\n",
        "!apt-get install openjdk-8-jdk-headless -qq > /dev/null\n",
        "!curl -s http://apache.osuosl.org/spark/spark-2.3.2/spark-2.3.2-bin-hadoop2.7.tgz | tar -xz -C /content\n",
        "!pip install -q findspark\n",
        "os.environ[\"JAVA_HOME\"] = \"/usr/lib/jvm/java-8-openjdk-amd64\"\n",
        "os.environ[\"SPARK_HOME\"] = \"/content/spark-2.3.2-bin-hadoop2.7\"\n",
        "\n",
        "# Import libraries\n",
        "%run \"{REPO/'.Importable.ipynb'}\"\n",
        "import findspark\n",
        "findspark.init()\n",
        "from pyspark import SparkContext, SparkConf\n",
        "\n",
        "#We can create a SparkConf() object and use it to initialize the spark context\n",
        "conf = SparkConf().setAppName(\"Collinear Points\").setMaster(\"local[4]\") #Initialize spark context using 4 local cores as workers\n",
        "sc = SparkContext(conf=conf)    \n",
        "\n",
        "from pyspark.rdd import RDD"
      ],
      "execution_count": 3,
      "outputs": [
        {
          "output_type": "stream",
          "text": [
            "[]\n",
            "[]\n"
          ],
          "name": "stdout"
        }
      ]
    },
    {
      "metadata": {
        "deletable": false,
        "editable": false,
        "heading_collapsed": true,
        "nbgrader": {
          "checksum": "fb5175902908ba3afb6508c020caaaee",
          "grade": false,
          "grade_id": "cell-773a47aa41687e4f",
          "locked": true,
          "schema_version": 1,
          "solution": false
        },
        "id": "jXCpDiUI4zJl",
        "colab_type": "text"
      },
      "cell_type": "markdown",
      "source": [
        "### Helper Functions\n",
        "Here are some helper functions that you are encouraged to use in your implementations. Do not change these functions."
      ]
    },
    {
      "metadata": {
        "deletable": false,
        "editable": false,
        "hidden": true,
        "nbgrader": {
          "checksum": "0310d10b18daee816bff3d9d26fdc09c",
          "grade": false,
          "grade_id": "cell-49ad662071f3985a",
          "locked": true,
          "schema_version": 1,
          "solution": false
        },
        "id": "n-DJGIWY4zJl",
        "colab_type": "text"
      },
      "cell_type": "markdown",
      "source": [
        "The function <font color=\"blue\">format_result</font> takes an element of the form shown below in the example. It outputs a tuple of all points that are collinear (shown below).\n",
        "\n",
        "Input: ((A,slope), [C1,..., Ck]) where each of A, C1, ..., Ck is a point of form (Ax, Ay) and slope is of type float.\n",
        "\n",
        "**<font color=\"magenta\" size=2>Example Code</font>**\n",
        "``` python\n",
        "my_input = (((2, 1), 0.5), [(4, 2), (6, 3)]) \n",
        "format_result(my_input)\n",
        "```\n",
        "Output: (C1,..., Ck, A) each of A,C1,...,Ck is a point of form (Ax, Ay)\n",
        "\n",
        "**<font color=\"blue\" size=2>Example Output</font>**\n",
        "``` python\n",
        "((4, 2), (6, 3), (2, 1))\n",
        "```\n",
        "\n",
        "<font color=\"red\">**Hint : **</font> The above example is given just to provide the input and output format. This function is called a different way in the spark exercise.\n"
      ]
    },
    {
      "metadata": {
        "code_folding": [],
        "deletable": false,
        "editable": false,
        "hidden": true,
        "nbgrader": {
          "checksum": "58e0e93285bd51486150e0f3854ce4c7",
          "grade": false,
          "grade_id": "format_result",
          "locked": true,
          "schema_version": 1,
          "solution": false
        },
        "id": "otRNeego4zJn",
        "colab_type": "code",
        "colab": {}
      },
      "cell_type": "code",
      "source": [
        "def format_result(x):\n",
        "    x[1].append(x[0][0])\n",
        "    return tuple(x[1])"
      ],
      "execution_count": 0,
      "outputs": []
    },
    {
      "metadata": {
        "deletable": false,
        "editable": false,
        "hidden": true,
        "nbgrader": {
          "checksum": "c598541d9412f3c9d652d93021a91f0d",
          "grade": false,
          "grade_id": "cell-75c0eeb264968b58",
          "locked": true,
          "schema_version": 1,
          "solution": false
        },
        "id": "O3EtjE8V4zJr",
        "colab_type": "code",
        "colab": {}
      },
      "cell_type": "code",
      "source": [
        "def to_sorted_points(x):\n",
        "    \"\"\"\n",
        "    Sorts and returns a tuple of points for further processing.\n",
        "    \"\"\"\n",
        "    return tuple(sorted(x))"
      ],
      "execution_count": 0,
      "outputs": []
    },
    {
      "metadata": {
        "deletable": false,
        "editable": false,
        "nbgrader": {
          "checksum": "7dce4a68819659eb31af8276be26184f",
          "grade": false,
          "grade_id": "cell-3c6a770a06a0457a",
          "locked": true,
          "schema_version": 1,
          "solution": false
        },
        "id": "BHb8t-jc4zJv",
        "colab_type": "text"
      },
      "cell_type": "markdown",
      "source": [
        "## Exercises\n",
        "\n",
        "Here are some functions that you will implement. You should follow the function definitions, and use them appropriately elsewhere in the notebook."
      ]
    },
    {
      "metadata": {
        "deletable": false,
        "editable": false,
        "heading_collapsed": true,
        "nbgrader": {
          "checksum": "9096be2d76024a224dc178ba27557f96",
          "grade": false,
          "grade_id": "cell-d7c137c5428c4ccb",
          "locked": true,
          "schema_version": 1,
          "solution": false
        },
        "id": "MMRpI0xw4zJv",
        "colab_type": "text"
      },
      "cell_type": "markdown",
      "source": [
        "### Exercise 1: to_tuple"
      ]
    },
    {
      "metadata": {
        "deletable": false,
        "editable": false,
        "hidden": true,
        "nbgrader": {
          "checksum": "3041273f3018754e731d969583627caa",
          "grade": false,
          "grade_id": "cell-505e6159d7dfd5e1",
          "locked": true,
          "schema_version": 1,
          "solution": false
        },
        "id": "VUl-ATCQ4zJw",
        "colab_type": "text"
      },
      "cell_type": "markdown",
      "source": [
        "#### Example\n",
        "The function <font color=\"blue\">to_tuple</font> converts each point of form 'Ax Ay' into a point of form (Ax, Ay) for further processing.\n",
        "\n",
        "**<font color=\"magenta\" size=2>Example Code</font>**\n",
        "``` python\n",
        "my_input = '2 3'\n",
        "to_tuple(my_input)\n",
        "```\n",
        "\n",
        "**<font color=\"blue\" size=2>Example Output</font>**\n",
        "``` python\n",
        "(2, 3)\n",
        "```\n",
        "\n",
        "<font color=\"red\">**Hint : **</font> The above example is given just to provide the input and output format. This function is called a different way in the spark exercise.\n"
      ]
    },
    {
      "metadata": {
        "deletable": false,
        "editable": false,
        "hidden": true,
        "nbgrader": {
          "checksum": "0109e612cb2855c7e1bae792cbc84a8e",
          "grade": false,
          "grade_id": "cell-856edb9202d856c2",
          "locked": true,
          "schema_version": 1,
          "solution": false
        },
        "id": "DuwsHw_z4zJx",
        "colab_type": "text"
      },
      "cell_type": "markdown",
      "source": [
        "#### Definition"
      ]
    },
    {
      "metadata": {
        "deletable": false,
        "hidden": true,
        "nbgrader": {
          "checksum": "32a49a9cdbb616a3db5063cc97dd062e",
          "grade": false,
          "grade_id": "to_tuple",
          "locked": false,
          "schema_version": 1,
          "solution": true
        },
        "id": "u95IlbCM4zJz",
        "colab_type": "code",
        "colab": {}
      },
      "cell_type": "code",
      "source": [
        "## Insert your answer in this cell. DO NOT CHANGE THE NAME OF THE FUNCTION.\n",
        "def to_tuple(x):\n",
        "    # YOUR CODE HERE\n",
        "    raise NotImplementedError()"
      ],
      "execution_count": 0,
      "outputs": []
    },
    {
      "metadata": {
        "deletable": false,
        "editable": false,
        "hidden": true,
        "nbgrader": {
          "checksum": "77e1bb18ee4f063e7c76521285d8ae7b",
          "grade": false,
          "grade_id": "cell-ba456fcfa242bc50",
          "locked": true,
          "schema_version": 1,
          "solution": false
        },
        "id": "tnmXvZrm4zJ2",
        "colab_type": "text"
      },
      "cell_type": "markdown",
      "source": [
        "#### Unit Tests"
      ]
    },
    {
      "metadata": {
        "deletable": false,
        "editable": false,
        "hidden": true,
        "nbgrader": {
          "checksum": "654133c5fab414eaac5a0ca292e593d6",
          "grade": true,
          "grade_id": "to_tuple_test1",
          "locked": true,
          "points": 1,
          "schema_version": 1,
          "solution": false
        },
        "id": "5MHfhGx44zJ4",
        "colab_type": "code",
        "colab": {}
      },
      "cell_type": "code",
      "source": [
        "assert type(to_tuple('1 1')) == tuple, \"Incorrect type: Element returned is not a tuple\""
      ],
      "execution_count": 0,
      "outputs": []
    },
    {
      "metadata": {
        "deletable": false,
        "editable": false,
        "hidden": true,
        "nbgrader": {
          "checksum": "83bbffcaecf406431a490417447aed54",
          "grade": true,
          "grade_id": "to_tuple_test2",
          "locked": true,
          "points": 1,
          "schema_version": 1,
          "solution": false
        },
        "id": "MgANKEdg4zJ7",
        "colab_type": "code",
        "colab": {}
      },
      "cell_type": "code",
      "source": [
        "assert type(to_tuple('1 1')[0])==int and type(to_tuple('1 1')[1])==int, \"Incorrect element type: Element returned is not an integer\""
      ],
      "execution_count": 0,
      "outputs": []
    },
    {
      "metadata": {
        "deletable": false,
        "editable": false,
        "hidden": true,
        "nbgrader": {
          "checksum": "af6f5bac43b64bf483b698c251fd3b52",
          "grade": true,
          "grade_id": "to_tuple_test3",
          "locked": true,
          "points": 1,
          "schema_version": 1,
          "solution": false
        },
        "id": "kk9a47364zJ_",
        "colab_type": "code",
        "colab": {}
      },
      "cell_type": "code",
      "source": [
        "assert to_tuple('1 1') == (1,1), \"Incorrect Return Value: Value obtained does not match\""
      ],
      "execution_count": 0,
      "outputs": []
    },
    {
      "metadata": {
        "deletable": false,
        "editable": false,
        "heading_collapsed": true,
        "nbgrader": {
          "checksum": "deced821768fe61adb05a8b7c148043b",
          "grade": false,
          "grade_id": "cell-9b9993388745a787",
          "locked": true,
          "schema_version": 1,
          "solution": false
        },
        "id": "8jUbKbiG4zKD",
        "colab_type": "text"
      },
      "cell_type": "markdown",
      "source": [
        "### Exercise 2: non_duplicates"
      ]
    },
    {
      "metadata": {
        "deletable": false,
        "editable": false,
        "hidden": true,
        "nbgrader": {
          "checksum": "77f6f0e7c20bbeda98eb4853d362138a",
          "grade": false,
          "grade_id": "cell-91b1ac852bcb7b5e",
          "locked": true,
          "schema_version": 1,
          "solution": false
        },
        "id": "6yrsIdmF4zKD",
        "colab_type": "text"
      },
      "cell_type": "markdown",
      "source": [
        "#### Example\n",
        "\n",
        "The function <font color=\"blue\">non_duplicates</font> checks if a set of points contains duplicates or not.\n",
        "\n",
        "Input: Pair (A,B) where A and B are of form (Ax, Ay) and (Bx, By) respectively.\n",
        "\n",
        "**<font color=\"magenta\" size=2>Example Code</font>**\n",
        "``` python\n",
        "my_input = ((0,0),(1,2))\n",
        "non_duplicates(my_input)\n",
        "```\n",
        "\n",
        "Output: Returns True if A != B, False otherwise.\n",
        "\n",
        "**<font color=\"blue\" size=2>Example Output</font>**\n",
        "``` python\n",
        "True\n",
        "```\n",
        "\n",
        "<font color=\"red\">**Hint : **</font> The above example is given just to provide the input and output format. This function is called a different way in the spark exercise."
      ]
    },
    {
      "metadata": {
        "deletable": false,
        "editable": false,
        "hidden": true,
        "nbgrader": {
          "checksum": "84aec1e99e6612491d74e3ea4e577ff4",
          "grade": false,
          "grade_id": "cell-3bf1e0e15843bb79",
          "locked": true,
          "schema_version": 1,
          "solution": false
        },
        "id": "J_5Z-OS44zKF",
        "colab_type": "text"
      },
      "cell_type": "markdown",
      "source": [
        "#### Definition"
      ]
    },
    {
      "metadata": {
        "deletable": false,
        "hidden": true,
        "nbgrader": {
          "checksum": "a42b6daf701373070506d926396c5ec4",
          "grade": false,
          "grade_id": "non_duplicates",
          "locked": false,
          "schema_version": 1,
          "solution": true
        },
        "id": "0uOH5_bl4zKH",
        "colab_type": "code",
        "colab": {}
      },
      "cell_type": "code",
      "source": [
        "## Insert your answer in this cell. DO NOT CHANGE THE NAME OF THE FUNCTION.\n",
        "def non_duplicates(x):\n",
        "    \"\"\" \n",
        "    Use this function inside the get_cartesian() function to 'filter' out pairs with duplicate points\n",
        "    \"\"\"\n",
        "    # YOUR CODE HERE\n",
        "    raise NotImplementedError()"
      ],
      "execution_count": 0,
      "outputs": []
    },
    {
      "metadata": {
        "deletable": false,
        "editable": false,
        "hidden": true,
        "nbgrader": {
          "checksum": "8543e184c1dbf549116ad3c59344fa00",
          "grade": false,
          "grade_id": "cell-9b4079a5fac4a570",
          "locked": true,
          "schema_version": 1,
          "solution": false
        },
        "id": "nlPZtkQX4zKN",
        "colab_type": "text"
      },
      "cell_type": "markdown",
      "source": [
        "#### Unit Tests"
      ]
    },
    {
      "metadata": {
        "deletable": false,
        "editable": false,
        "hidden": true,
        "nbgrader": {
          "checksum": "9b939ddbe8b4c0e89e88380b2a53063d",
          "grade": true,
          "grade_id": "non_duplicate_test1",
          "locked": true,
          "points": 1,
          "schema_version": 1,
          "solution": false
        },
        "id": "OyRqJzWj4zKO",
        "colab_type": "code",
        "colab": {}
      },
      "cell_type": "code",
      "source": [
        "assert type(non_duplicates(((0,0),(1,2)))) == bool, \"Incorrect Return type: Function should return a boolean value\""
      ],
      "execution_count": 0,
      "outputs": []
    },
    {
      "metadata": {
        "deletable": false,
        "editable": false,
        "hidden": true,
        "nbgrader": {
          "checksum": "4b1bf301260bd3d3e61b5a3816d6a3ab",
          "grade": true,
          "grade_id": "non_duplicate_test2",
          "locked": true,
          "points": 1,
          "schema_version": 1,
          "solution": false
        },
        "id": "MKEwNhlR4zKS",
        "colab_type": "code",
        "colab": {}
      },
      "cell_type": "code",
      "source": [
        "assert non_duplicates(((0,0),(1,2))) == True, \"No duplicates are present\""
      ],
      "execution_count": 0,
      "outputs": []
    },
    {
      "metadata": {
        "deletable": false,
        "editable": false,
        "hidden": true,
        "nbgrader": {
          "checksum": "0ece2d7fd70a3a3a18797a99bbbc8d20",
          "grade": true,
          "grade_id": "non_duplicate_test3",
          "locked": true,
          "points": 1,
          "schema_version": 1,
          "solution": false
        },
        "id": "mWoDS5en4zKW",
        "colab_type": "code",
        "colab": {}
      },
      "cell_type": "code",
      "source": [
        "assert non_duplicates(((0,0),(0,0))) == False, \"Duplicates exist: (0,0)\""
      ],
      "execution_count": 0,
      "outputs": []
    },
    {
      "metadata": {
        "deletable": false,
        "editable": false,
        "heading_collapsed": true,
        "nbgrader": {
          "checksum": "132e6ee1e338cad56c07959611b45153",
          "grade": false,
          "grade_id": "cell-f28c29e111d2c46b",
          "locked": true,
          "schema_version": 1,
          "solution": false
        },
        "id": "Wh7iMxtg4zKa",
        "colab_type": "text"
      },
      "cell_type": "markdown",
      "source": [
        "### Exercise 3: get_cartesian"
      ]
    },
    {
      "metadata": {
        "deletable": false,
        "editable": false,
        "hidden": true,
        "nbgrader": {
          "checksum": "c86aea0e55feae3340e68d4c603d124d",
          "grade": false,
          "grade_id": "cell-e7d02f2639ac31d4",
          "locked": true,
          "schema_version": 1,
          "solution": false
        },
        "id": "5f4ETBUk4zKa",
        "colab_type": "text"
      },
      "cell_type": "markdown",
      "source": [
        "#### Example\n",
        "\n",
        "The function <font color=\"blue\">get_cartesian</font> does a cartesian product of an RDD with itself and returns an RDD with <b>DISTINCT</b> pairs of points.\n",
        "\n",
        "Input: An RDD containing the given list of points\n",
        "\n",
        "Output: An RDD containing The cartesian product of the RDD with itself\n",
        "\n",
        "**<font color=\"magenta\" size=2>Example Code</font>**\n",
        "``` python\n",
        "test_rdd = sc.parallelize([(1,0), (2,0), (3,0)])\n",
        "get_cartesian(test_rdd).collect()\n",
        "```\n",
        "\n",
        "**<font color=\"blue\" size=2>Example Output</font>**\n",
        "``` python\n",
        "[((1, 0), (2, 0)), ((1, 0), (3, 0)), ((2, 0), (1, 0)), ((2, 0), (3, 0)), ((3, 0), (1, 0)), ((3, 0), (2, 0))]\n",
        "```\n",
        "\n",
        "Refer:  http://spark.apache.org/docs/latest/api/python/pyspark.html?highlight=cartesian#pyspark.RDD.cartesian"
      ]
    },
    {
      "metadata": {
        "deletable": false,
        "editable": false,
        "hidden": true,
        "nbgrader": {
          "checksum": "643ea2bdd5be5cd60076c2141f546c3e",
          "grade": false,
          "grade_id": "cell-039b50aeadf71899",
          "locked": true,
          "schema_version": 1,
          "solution": false
        },
        "id": "-cZ4ODJo4zKd",
        "colab_type": "text"
      },
      "cell_type": "markdown",
      "source": [
        "#### Definition"
      ]
    },
    {
      "metadata": {
        "deletable": false,
        "hidden": true,
        "nbgrader": {
          "checksum": "9a24d0a4d1ad28310b8d185bff55daa6",
          "grade": false,
          "grade_id": "get_cartesian",
          "locked": false,
          "schema_version": 1,
          "solution": true
        },
        "id": "q9z9AhR54zKf",
        "colab_type": "code",
        "colab": {}
      },
      "cell_type": "code",
      "source": [
        "## Insert your answer in this cell. DO NOT CHANGE THE NAME OF THE FUNCTION.\n",
        "def get_cartesian(rdd):\n",
        "    # YOUR CODE HERE\n",
        "    raise NotImplementedError()"
      ],
      "execution_count": 0,
      "outputs": []
    },
    {
      "metadata": {
        "deletable": false,
        "editable": false,
        "hidden": true,
        "nbgrader": {
          "checksum": "82769159cfe1e095bbb9729e74ca2337",
          "grade": false,
          "grade_id": "cell-055907b27f0b6fe1",
          "locked": true,
          "schema_version": 1,
          "solution": false
        },
        "id": "ewlux7f44zKs",
        "colab_type": "text"
      },
      "cell_type": "markdown",
      "source": [
        "#### Unit Tests"
      ]
    },
    {
      "metadata": {
        "deletable": false,
        "editable": false,
        "hidden": true,
        "nbgrader": {
          "checksum": "ceb67419904d5fe338ca909ac7c89b68",
          "grade": true,
          "grade_id": "get_cartesian_test1",
          "locked": true,
          "points": 2,
          "schema_version": 1,
          "solution": false
        },
        "id": "t69PMeix4zKu",
        "colab_type": "code",
        "colab": {}
      },
      "cell_type": "code",
      "source": [
        "test_rdd = sc.parallelize([(1,0), (2,0), (3,0)])\n",
        "\n",
        "l = [((1, 0), (2, 0)), ((1, 0), (3, 0)), ((2, 0), (1, 0)), ((2, 0), (3, 0)), ((3, 0), (1, 0)), ((3, 0), (2, 0))]\n",
        "\n",
        "assert isinstance(get_cartesian(test_rdd), RDD) == True, \"Incorrect Return type: Function should return an RDD\"\n",
        "assert set(get_cartesian(test_rdd).collect()) == set(l), \"Incorrect Return Value: Value obtained does not match\""
      ],
      "execution_count": 0,
      "outputs": []
    },
    {
      "metadata": {
        "deletable": false,
        "editable": false,
        "hidden": true,
        "nbgrader": {
          "checksum": "dc64d03fb7bf34b44d9cf6129da1359e",
          "grade": true,
          "grade_id": "get_cartesian_test2",
          "locked": true,
          "points": 3,
          "schema_version": 1,
          "solution": false
        },
        "id": "FdAIjh934zK0",
        "colab_type": "code",
        "colab": {}
      },
      "cell_type": "code",
      "source": [
        "##Hidden test cases here"
      ],
      "execution_count": 0,
      "outputs": []
    },
    {
      "metadata": {
        "deletable": false,
        "editable": false,
        "hidden": true,
        "nbgrader": {
          "checksum": "d4939bafc51be2165fb3e85141ec0684",
          "grade": true,
          "grade_id": "get_cartesian_test4",
          "locked": true,
          "points": 4,
          "schema_version": 1,
          "solution": false
        },
        "id": "iIIFcpki4zK5",
        "colab_type": "code",
        "colab": {}
      },
      "cell_type": "code",
      "source": [
        "##Hidden test cases here"
      ],
      "execution_count": 0,
      "outputs": []
    },
    {
      "metadata": {
        "deletable": false,
        "editable": false,
        "heading_collapsed": true,
        "nbgrader": {
          "checksum": "c524f6aee4df0a40911dfd40bd852f37",
          "grade": false,
          "grade_id": "cell-eaec56ed0650e4d5",
          "locked": true,
          "schema_version": 1,
          "solution": false
        },
        "id": "JfxMB5lO4zLA",
        "colab_type": "text"
      },
      "cell_type": "markdown",
      "source": [
        "### Exercise 4: find_slope"
      ]
    },
    {
      "metadata": {
        "deletable": false,
        "editable": false,
        "hidden": true,
        "nbgrader": {
          "checksum": "e36f336c26e1401f436d7f3bdad3234f",
          "grade": false,
          "grade_id": "cell-0b4545887393d7f2",
          "locked": true,
          "schema_version": 1,
          "solution": false
        },
        "id": "I0lAAny94zLH",
        "colab_type": "text"
      },
      "cell_type": "markdown",
      "source": [
        "#### Example\n",
        "\n",
        "The function <font color=\"blue\">find_slope</font> computes slope between points A and B and returns it in the format specified below.\n",
        "\n",
        "Input: Pair (A,B) where A and B are of form (Ax, Ay) and (Bx, By) respectively. \n",
        "\n",
        "**<font color=\"magenta\" size=2>Example Code</font>**\n",
        "``` python\n",
        "my_input = ((1,2),(3,4))\n",
        "find_slope(my_input)\n",
        "```\n",
        "\n",
        "Output: Pair ((A,slope), B) where A and B have the same definition as input and slope refers to the slope of the line segment connecting point A and B.\n",
        "\n",
        "**<font color=\"blue\" size=2>Example Output</font>**\n",
        "``` python\n",
        "(((1, 2), 1.0), (3, 4))\n",
        "```\n",
        "<font color=\"brown\">**Note: **</font> If Ax == Bx, use slope as \"inf\".\n",
        "\n",
        "<font color=\"red\">**Hint : **</font> The above example is given just to provide the input and output format. This function is called a different way in the spark exercise.\n"
      ]
    },
    {
      "metadata": {
        "deletable": false,
        "editable": false,
        "hidden": true,
        "nbgrader": {
          "checksum": "1ca4fa51e87b7b511d25cc66c82abeb6",
          "grade": false,
          "grade_id": "cell-5f2de1e073e2055b",
          "locked": true,
          "schema_version": 1,
          "solution": false
        },
        "id": "L08d_4-n4zLK",
        "colab_type": "text"
      },
      "cell_type": "markdown",
      "source": [
        "#### Definition"
      ]
    },
    {
      "metadata": {
        "deletable": false,
        "hidden": true,
        "nbgrader": {
          "checksum": "18e38e5d2a856fee42f2eae55ce35ae8",
          "grade": false,
          "grade_id": "find_slope",
          "locked": false,
          "schema_version": 1,
          "solution": true
        },
        "id": "oDHXhwPx4zLO",
        "colab_type": "code",
        "colab": {}
      },
      "cell_type": "code",
      "source": [
        "## Insert your answer in this cell\n",
        "\n",
        "def find_slope(x):\n",
        "    # YOUR CODE HERE\n",
        "    raise NotImplementedError()"
      ],
      "execution_count": 0,
      "outputs": []
    },
    {
      "metadata": {
        "deletable": false,
        "editable": false,
        "hidden": true,
        "nbgrader": {
          "checksum": "3e167e4eb92f588cdf2938e3f1ae12bf",
          "grade": false,
          "grade_id": "cell-3d904383c1b13721",
          "locked": true,
          "schema_version": 1,
          "solution": false
        },
        "id": "RizQGfkB4zLY",
        "colab_type": "text"
      },
      "cell_type": "markdown",
      "source": [
        "#### Unit Tests"
      ]
    },
    {
      "metadata": {
        "deletable": false,
        "editable": false,
        "hidden": true,
        "nbgrader": {
          "checksum": "d8ae72f49d0b3166eae4a75d3bc8f10a",
          "grade": true,
          "grade_id": "find_slope1",
          "locked": true,
          "points": 1,
          "schema_version": 1,
          "solution": false
        },
        "id": "WqcgujRN4zLc",
        "colab_type": "code",
        "colab": {}
      },
      "cell_type": "code",
      "source": [
        "assert type(find_slope(((1,2),(3,4)))) == tuple, \"Function must return a tuple\""
      ],
      "execution_count": 0,
      "outputs": []
    },
    {
      "metadata": {
        "deletable": false,
        "editable": false,
        "hidden": true,
        "nbgrader": {
          "checksum": "4dc9713a8dd63d0ba7cb260fcdb3d08e",
          "grade": true,
          "grade_id": "find_slope2",
          "locked": true,
          "points": 1,
          "schema_version": 1,
          "solution": false
        },
        "id": "289YeLB94zLj",
        "colab_type": "code",
        "colab": {}
      },
      "cell_type": "code",
      "source": [
        "assert find_slope(((1,2),(-7,-2)))[0][1] == 0.5, \"Slope value should be 0.5\""
      ],
      "execution_count": 0,
      "outputs": []
    },
    {
      "metadata": {
        "deletable": false,
        "editable": false,
        "hidden": true,
        "nbgrader": {
          "checksum": "abf318ccd01d194400dfc7349d187a7d",
          "grade": true,
          "grade_id": "find_slope3",
          "locked": true,
          "points": 1,
          "schema_version": 1,
          "solution": false
        },
        "id": "xer__Ktu4zLo",
        "colab_type": "code",
        "colab": {}
      },
      "cell_type": "code",
      "source": [
        "assert find_slope(((1,2),(3,4))) == (((1,2),1),(3,4)), \"Incorrect return value: Value obtained does not match\""
      ],
      "execution_count": 0,
      "outputs": []
    },
    {
      "metadata": {
        "deletable": false,
        "editable": false,
        "hidden": true,
        "nbgrader": {
          "checksum": "9fa363f8b13eb3e1fe7e0f90682afa0c",
          "grade": true,
          "grade_id": "find_slope4",
          "locked": true,
          "points": 1,
          "schema_version": 1,
          "solution": false
        },
        "id": "7ZemtGEN4zLy",
        "colab_type": "code",
        "colab": {}
      },
      "cell_type": "code",
      "source": [
        "assert find_slope(((1,2),(1,5))) == (((1,2),\"inf\"),(1,5)), \"Incorrect return value: Value obtained must have slope 'inf'\""
      ],
      "execution_count": 0,
      "outputs": []
    },
    {
      "metadata": {
        "deletable": false,
        "editable": false,
        "hidden": true,
        "nbgrader": {
          "checksum": "c22f9cf3a457ba84fcdce36f46bd7b79",
          "grade": true,
          "grade_id": "find_slope5",
          "locked": true,
          "points": 1,
          "schema_version": 1,
          "solution": false
        },
        "id": "cWpaAAp94zL5",
        "colab_type": "code",
        "colab": {}
      },
      "cell_type": "code",
      "source": [
        "assert find_slope(((1,2),(2,5))) == (((1,2),3),(2,5)), \"Incorrect return value: Value obtained does not match\""
      ],
      "execution_count": 0,
      "outputs": []
    },
    {
      "metadata": {
        "deletable": false,
        "editable": false,
        "hidden": true,
        "nbgrader": {
          "checksum": "c405cf6f50f24185151e5c877382ddf4",
          "grade": true,
          "grade_id": "find_slope_hidden1",
          "locked": true,
          "points": 3,
          "schema_version": 1,
          "solution": false
        },
        "id": "jJtbO5x94zL-",
        "colab_type": "code",
        "colab": {}
      },
      "cell_type": "code",
      "source": [
        "##Hidden test cases here"
      ],
      "execution_count": 0,
      "outputs": []
    },
    {
      "metadata": {
        "deletable": false,
        "editable": false,
        "hidden": true,
        "nbgrader": {
          "checksum": "9b955a80455a5e4463a260632dcc718a",
          "grade": true,
          "grade_id": "find_slope_hidden2",
          "locked": true,
          "points": 3,
          "schema_version": 1,
          "solution": false
        },
        "id": "GythvsCK4zMJ",
        "colab_type": "code",
        "colab": {}
      },
      "cell_type": "code",
      "source": [
        "##Hidden test cases here"
      ],
      "execution_count": 0,
      "outputs": []
    },
    {
      "metadata": {
        "deletable": false,
        "editable": false,
        "hidden": true,
        "nbgrader": {
          "checksum": "c5fb30b6705a032b6424b39bf81deee2",
          "grade": true,
          "grade_id": "find_slope_hidden3",
          "locked": true,
          "points": 3,
          "schema_version": 1,
          "solution": false
        },
        "id": "NePtx_qH4zMM",
        "colab_type": "code",
        "colab": {}
      },
      "cell_type": "code",
      "source": [
        "##Hidden test cases here"
      ],
      "execution_count": 0,
      "outputs": []
    },
    {
      "metadata": {
        "deletable": false,
        "editable": false,
        "heading_collapsed": true,
        "nbgrader": {
          "checksum": "473a4e95df9d605903e103bafafa0ff5",
          "grade": false,
          "grade_id": "cell-c1b7f405e6f29b5b",
          "locked": true,
          "schema_version": 1,
          "solution": false
        },
        "id": "bXp--RXw4zMQ",
        "colab_type": "text"
      },
      "cell_type": "markdown",
      "source": [
        "### Exercise 5: find_collinear"
      ]
    },
    {
      "metadata": {
        "deletable": false,
        "editable": false,
        "hidden": true,
        "nbgrader": {
          "checksum": "7077f5c7b5bb6696bc805898e52844db",
          "grade": false,
          "grade_id": "cell-914ae1e774319691",
          "locked": true,
          "schema_version": 1,
          "solution": false
        },
        "id": "Xwo-WwHu4zMR",
        "colab_type": "text"
      },
      "cell_type": "markdown",
      "source": [
        "#### Example\n",
        "\n",
        "The function <font color=\"blue\">find_collinear</font> finds the set of collinear points.\n",
        "\n",
        "Input: An RDD (which is the output of the get_cartesian() function. \n",
        "\n",
        "Output: An RDD containing the list of collinear points formatted according to the <font color=\"blue\">format_result</font> function.\n",
        "\n",
        "Approach:\n",
        "1. Find the slope of the line between all pairs of points A = (Ax, Ay) and B = (Bx, By).\n",
        "2. For each (A, B), find all points C = ((C1x, C1y), (C2x, C2y), ... (Cnx, Cny)) \n",
        "   where slope of (A,B) = slope of (A, Ci).\n",
        "3. Return (A, B, Ck) where Ck = all points of C which satisfy the condition 1.\n",
        "\n",
        "The assert statement unit tests for this function will help you with this.\n",
        "<font color=\"red\">**Hint : **</font>   You should use the above helper functions in conjunction with Spark RDD API (refer http://spark.apache.org/docs/latest/api/python/pyspark.html?highlight=rdd#pyspark.RDD)\n",
        "            Finally, use helper function format_result() appropriately from inside this function after you have implemented the above operations."
      ]
    },
    {
      "metadata": {
        "deletable": false,
        "editable": false,
        "hidden": true,
        "nbgrader": {
          "checksum": "46068519e452e8268834897ef4f48c8d",
          "grade": false,
          "grade_id": "cell-9a31ef2dcb4560fa",
          "locked": true,
          "schema_version": 1,
          "solution": false
        },
        "id": "YTpZ5JQ14zMU",
        "colab_type": "text"
      },
      "cell_type": "markdown",
      "source": [
        "#### Definition"
      ]
    },
    {
      "metadata": {
        "deletable": false,
        "hidden": true,
        "nbgrader": {
          "checksum": "8c8bb8b22b0b52572235b7f57d655bcc",
          "grade": false,
          "grade_id": "find_collinear",
          "locked": false,
          "schema_version": 1,
          "solution": true
        },
        "id": "J66Iou1n4zMW",
        "colab_type": "code",
        "colab": {}
      },
      "cell_type": "code",
      "source": [
        "def find_collinear(rdd):\n",
        "    # YOUR CODE HERE\n",
        "    raise NotImplementedError()"
      ],
      "execution_count": 0,
      "outputs": []
    },
    {
      "metadata": {
        "deletable": false,
        "editable": false,
        "hidden": true,
        "nbgrader": {
          "checksum": "2073dc0d16402b142ce97179a867a9dc",
          "grade": false,
          "grade_id": "cell-ffb01083af217fe4",
          "locked": true,
          "schema_version": 1,
          "solution": false
        },
        "id": "WDpBQpHp4zMa",
        "colab_type": "text"
      },
      "cell_type": "markdown",
      "source": [
        "#### Unit Tests"
      ]
    },
    {
      "metadata": {
        "deletable": false,
        "editable": false,
        "hidden": true,
        "nbgrader": {
          "checksum": "9433874063a97a05e1fe92a71f54cf00",
          "grade": false,
          "grade_id": "cell-adee31e44b3bf643",
          "locked": true,
          "schema_version": 1,
          "solution": false
        },
        "id": "csnSV1fH4zMc",
        "colab_type": "code",
        "colab": {}
      },
      "cell_type": "code",
      "source": [
        "def verify_collinear_sets(collinearpointsRDD, testlist):\n",
        "    collinearpoints = [tuple(sorted(x)) for x in list(set(collinearpointsRDD.collect()))]\n",
        "    testlist = [tuple(sorted(x)) for x in list(set(testlist))]\n",
        "    return set(collinearpoints) == set(testlist)"
      ],
      "execution_count": 0,
      "outputs": []
    },
    {
      "metadata": {
        "deletable": false,
        "editable": false,
        "hidden": true,
        "nbgrader": {
          "checksum": "a4756ea58a19fe1c2cf2d3423c5d9d1b",
          "grade": true,
          "grade_id": "find_collinear1",
          "locked": true,
          "points": 3,
          "schema_version": 1,
          "solution": false
        },
        "id": "GhL-oZtZ4zMn",
        "colab_type": "code",
        "colab": {}
      },
      "cell_type": "code",
      "source": [
        "test_rdd = sc.parallelize([((4, 2), (2, 1)), ((4, 2), (-3, 4)), ((4, 2), (6, 3)), ((2, 1), (4, 2)), ((2, 1), (-3, 4)), ((2, 1), (6, 3)), ((-3, 4), (4, 2)), ((-3, 4), (2, 1)), ((-3, 4), (6, 3)), ((6, 3), (4, 2)), ((6, 3), (2, 1)), ((6, 3), (-3, 4))])\n",
        "assert isinstance(find_collinear(test_rdd), RDD) == True, \"Incorrect return type: Function must return RDD\""
      ],
      "execution_count": 0,
      "outputs": []
    },
    {
      "metadata": {
        "deletable": false,
        "editable": false,
        "hidden": true,
        "nbgrader": {
          "checksum": "a729abbaa8d514cfed9ed19460a48fd1",
          "grade": true,
          "grade_id": "find_collinear2",
          "locked": true,
          "points": 3,
          "schema_version": 1,
          "solution": false
        },
        "id": "76Oiy5Ab4zMt",
        "colab_type": "code",
        "colab": {}
      },
      "cell_type": "code",
      "source": [
        "assert verify_collinear_sets(find_collinear(test_rdd), [((2, 1), (4, 2), (6, 3))]), \"Incorrect return value: Value obtained does not match\""
      ],
      "execution_count": 0,
      "outputs": []
    },
    {
      "metadata": {
        "deletable": false,
        "editable": false,
        "hidden": true,
        "nbgrader": {
          "checksum": "2d40c0f2435a8b65112a933975fad509",
          "grade": true,
          "grade_id": "find_collinear_hidden",
          "locked": true,
          "points": 4,
          "schema_version": 1,
          "solution": false
        },
        "id": "81Gl1GEA4zMx",
        "colab_type": "code",
        "colab": {}
      },
      "cell_type": "code",
      "source": [
        "##Hidden test cases here"
      ],
      "execution_count": 0,
      "outputs": []
    },
    {
      "metadata": {
        "deletable": false,
        "editable": false,
        "hidden": true,
        "nbgrader": {
          "checksum": "944edb1429e93e79c2e9d6a189961d65",
          "grade": false,
          "grade_id": "cell-fbc9a77136a57c34",
          "locked": true,
          "schema_version": 1,
          "solution": false
        },
        "id": "SoPoxOIx4zM8",
        "colab_type": "text"
      },
      "cell_type": "markdown",
      "source": [
        "#### Unit Tests II : Using the output of get_cartesian(rdd)"
      ]
    },
    {
      "metadata": {
        "deletable": false,
        "editable": false,
        "hidden": true,
        "nbgrader": {
          "checksum": "9c6d430f0029f564f9bd81a274744f76",
          "grade": true,
          "grade_id": "find_collinear3",
          "locked": true,
          "points": 3,
          "schema_version": 1,
          "solution": false
        },
        "id": "fCu8VU-Y4zM-",
        "colab_type": "code",
        "colab": {}
      },
      "cell_type": "code",
      "source": [
        "test_rdd = sc.parallelize([(4, -2), (2, -1), (-3,4), (6,3), (-9,4), (6, -3), (8,-4), (6,9)])\n",
        "test_rdd = get_cartesian(test_rdd)\n",
        "assert verify_collinear_sets(find_collinear(test_rdd), [((6, -3), (6, 3), (6, 9)), ((2, -1), (4, -2), (6, -3), (8, -4))]), \"Incorrect return value: You have not implemented the find_collinear function in Python\""
      ],
      "execution_count": 0,
      "outputs": []
    },
    {
      "metadata": {
        "deletable": false,
        "editable": false,
        "hidden": true,
        "nbgrader": {
          "checksum": "a5d3adf7c8e32725c8628e7a889bdcb9",
          "grade": true,
          "grade_id": "find_collinear_hidden2",
          "locked": true,
          "points": 6,
          "schema_version": 1,
          "solution": false
        },
        "id": "cG1ANpc84zNE",
        "colab_type": "code",
        "colab": {}
      },
      "cell_type": "code",
      "source": [
        "##Hidden test cases here"
      ],
      "execution_count": 0,
      "outputs": []
    },
    {
      "metadata": {
        "deletable": false,
        "editable": false,
        "heading_collapsed": true,
        "nbgrader": {
          "checksum": "20ed2f68d19f63b82e4f9e274576ddf8",
          "grade": false,
          "grade_id": "cell-a15b922949251b16",
          "locked": true,
          "schema_version": 1,
          "solution": false
        },
        "id": "bO5o_qq14zNK",
        "colab_type": "text"
      },
      "cell_type": "markdown",
      "source": [
        "### Exercise 6: The build_collinear_set function"
      ]
    },
    {
      "metadata": {
        "deletable": false,
        "editable": false,
        "hidden": true,
        "nbgrader": {
          "checksum": "91bc5cf5330805c942498425a89f1db3",
          "grade": false,
          "grade_id": "cell-a15b922949251b15",
          "locked": true,
          "schema_version": 1,
          "solution": false
        },
        "id": "HSDKDhBk4zNL",
        "colab_type": "text"
      },
      "cell_type": "markdown",
      "source": [
        "#### Example\n",
        "Using the above functions that you have written along with pyspark functions, write the **build_collinear_set** function and returns an RDD containing the set of collinear points.\n",
        "\n",
        "Input: RDD containing the given set of points\n",
        "\n",
        "Output: RDD containing the set of collinear points\n",
        "\n",
        "<font color=\"red\">**Hint : **</font> Remember that the input RDD consists of a set of strings. Remember to pre-process them using the to_tuple function before performing other operations."
      ]
    },
    {
      "metadata": {
        "deletable": false,
        "editable": false,
        "hidden": true,
        "nbgrader": {
          "checksum": "a2fd78cb3058dc06883309213b7439db",
          "grade": false,
          "grade_id": "cell-e65a588686d085c9",
          "locked": true,
          "schema_version": 1,
          "solution": false
        },
        "id": "Z2TxdIAf4zNM",
        "colab_type": "text"
      },
      "cell_type": "markdown",
      "source": [
        "#### Definition"
      ]
    },
    {
      "metadata": {
        "deletable": false,
        "hidden": true,
        "nbgrader": {
          "checksum": "18683d1dfea2b97144f55abf93b6aeba",
          "grade": false,
          "grade_id": "Collinear-main",
          "locked": false,
          "schema_version": 1,
          "solution": true
        },
        "id": "jyE0TY-94zNO",
        "colab_type": "code",
        "colab": {}
      },
      "cell_type": "code",
      "source": [
        "def build_collinear_set(rdd):\n",
        "    \n",
        "    # YOUR CODE HERE\n",
        "    raise NotImplementedError()\n",
        "    \n",
        "    # Sorting each of your returned sets of collinear points. This is for grading purposes. \n",
        "    # YOU MUST NOT CHANGE THIS.\n",
        "    rdd = rdd.map(to_sorted_points)\n",
        "    \n",
        "    return rdd"
      ],
      "execution_count": 0,
      "outputs": []
    },
    {
      "metadata": {
        "deletable": false,
        "editable": false,
        "hidden": true,
        "nbgrader": {
          "checksum": "9afb511f54206dd0f33a55d971ca029c",
          "grade": false,
          "grade_id": "cell-2d08e0ec753a680b",
          "locked": true,
          "schema_version": 1,
          "solution": false
        },
        "id": "zNtZP3MZ4zNR",
        "colab_type": "text"
      },
      "cell_type": "markdown",
      "source": [
        "#### Unit Tests"
      ]
    },
    {
      "metadata": {
        "deletable": false,
        "editable": false,
        "hidden": true,
        "nbgrader": {
          "checksum": "dcd7209e7f4ddd7c36583bd6d7accff2",
          "grade": true,
          "grade_id": "Collinear-type-test",
          "locked": true,
          "points": 4,
          "schema_version": 1,
          "solution": false
        },
        "id": "cTKCLWUR4zNX",
        "colab_type": "code",
        "colab": {}
      },
      "cell_type": "code",
      "source": [
        "test_rdd = sc.parallelize(['4 -2', '2 -1', '-3 4', '6 3', '-9 4', '6 -3', '8 -4', '6 9'])\n",
        "assert isinstance(build_collinear_set(test_rdd), RDD) == True, \"build_collinear_set should return an RDD.\""
      ],
      "execution_count": 0,
      "outputs": []
    },
    {
      "metadata": {
        "deletable": false,
        "editable": false,
        "heading_collapsed": true,
        "nbgrader": {
          "checksum": "96c137188b16b00df31f17b697fcefcb",
          "grade": false,
          "grade_id": "cell-cc72c2cc0fb5d36b",
          "locked": true,
          "schema_version": 1,
          "solution": false
        },
        "id": "H_Hh9kC64zNd",
        "colab_type": "text"
      },
      "cell_type": "markdown",
      "source": [
        "### The process function"
      ]
    },
    {
      "metadata": {
        "deletable": false,
        "editable": false,
        "hidden": true,
        "nbgrader": {
          "checksum": "49d80eb474bf23793b244268fe995934",
          "grade": false,
          "grade_id": "cell-4a1c492646e86a45",
          "locked": true,
          "schema_version": 1,
          "solution": false
        },
        "id": "S1mzIz394zNe",
        "colab_type": "text"
      },
      "cell_type": "markdown",
      "source": [
        "#### Definition"
      ]
    },
    {
      "metadata": {
        "deletable": false,
        "editable": false,
        "hidden": true,
        "nbgrader": {
          "checksum": "5033787304edc4e1e6fa665e5781d441",
          "grade": false,
          "grade_id": "Main-function",
          "locked": true,
          "schema_version": 1,
          "solution": false
        },
        "id": "hjqy_trl4zNe",
        "colab_type": "code",
        "colab": {}
      },
      "cell_type": "code",
      "source": [
        "def process(filename):\n",
        "    \"\"\"\n",
        "    This is the process function used for finding collinear points using inputs from different files\n",
        "    Input: Name of the test file\n",
        "    Output: Set of collinear points\n",
        "    \"\"\"\n",
        "    # Load the data file into an RDD\n",
        "    rdd = sc.textFile(filename)\n",
        "    \n",
        "    rdd = build_collinear_set(rdd)\n",
        "    \n",
        "    # Collecting the collinear points RDD in a set to remove duplicate sets of collinear points. This is for grading purposes. You may ignore this.\n",
        "    res = set(rdd.collect())\n",
        "    \n",
        "    return res"
      ],
      "execution_count": 0,
      "outputs": []
    },
    {
      "metadata": {
        "deletable": false,
        "editable": false,
        "hidden": true,
        "nbgrader": {
          "checksum": "67c8dafd09663e5ac2ac30eb4a593995",
          "grade": false,
          "grade_id": "cell-614b27038af0cd2a",
          "locked": true,
          "schema_version": 1,
          "solution": false
        },
        "id": "Z0dayw8i4zNj",
        "colab_type": "text"
      },
      "cell_type": "markdown",
      "source": [
        "#### Unit Tests: Testing the build_collinear_set function using the process function\n",
        "NOTE: You may assume that input files do not have duplicate points."
      ]
    },
    {
      "metadata": {
        "deletable": false,
        "editable": false,
        "hidden": true,
        "nbgrader": {
          "checksum": "fa4bef35ce670329b42b06b4768397d5",
          "grade": true,
          "grade_id": "Collinear_soln_visible1",
          "locked": false,
          "points": 8,
          "schema_version": 1,
          "solution": false
        },
        "id": "0kC7rd4a4zNl",
        "colab_type": "code",
        "colab": {}
      },
      "cell_type": "code",
      "source": [
        "assert process(\"data.txt\") == {((-2, -2), (1, 1), (2, 2), (3, 3)), ((0, 1), (3, 4), (5, 6)), ((0, -3), (0, 1), (0, 5))}, \"Your implementation of build_collinear_set is not correct.\""
      ],
      "execution_count": 0,
      "outputs": []
    },
    {
      "metadata": {
        "deletable": false,
        "editable": false,
        "hidden": true,
        "nbgrader": {
          "checksum": "73857f5e7d394bf3184059193fb993ce",
          "grade": true,
          "grade_id": "Collinear_soln_visible2",
          "locked": false,
          "points": 8,
          "schema_version": 1,
          "solution": false
        },
        "id": "kQfxpqGd4zNp",
        "colab_type": "code",
        "colab": {}
      },
      "cell_type": "code",
      "source": [
        "assert process(\"data50.txt\") == {((3, 6), (7, 4), (9, 3)), ((1, 6), (3, 6), (4, 6), (7, 6)), \n",
        "                                 ((0, 2), (3, 1), (6, 0)), ((1, 0), (2, 0), (5, 0), (6, 0)), \n",
        "                                 ((1, 3), (3, 6), (5, 9)), ((0, 8), (4, 6), (6, 5)), \n",
        "                                 ((6, 0), (6, 1), (6, 5), (6, 9)), \n",
        "                                 ((7, 2), (7, 3), (7, 4), (7, 6), (7, 8)), ((3, 1), (3, 3), (3, 6)), \n",
        "                                 ((0, 2), (1, 2), (5, 2), (7, 2)), ((0, 3), (2, 5), (3, 6), (6, 9)), \n",
        "                                 ((0, 2), (1, 3), (2, 4), (4, 6), (5, 7)), ((1, 2), (4, 3), (7, 4)), \n",
        "                                 ((0, 3), (4, 6), (8, 9)), ((9, 3), (9, 4), (9, 5)), ((2, 5), (5, 7), (8, 9)), \n",
        "                                 ((0, 5), (2, 4), (4, 3), (8, 1)), ((0, 8), (1, 6), (2, 4)), \n",
        "                                 ((3, 6), (5, 2), (6, 0)), ((5, 9), (6, 9), (8, 9)), \n",
        "                                 ((0, 8), (1, 8), (7, 8)), ((0, 4), (1, 3), (3, 1)), ((5, 9), (7, 6), (9, 3)), \n",
        "                                 ((1, 2), (2, 4), (3, 6)), ((0, 7), (1, 5), (3, 1)), \n",
        "                                 ((1, 5), (2, 4), (3, 3), (6, 0)), ((0, 2), (3, 3), (9, 5)), \n",
        "                                 ((0, 7), (1, 6), (2, 5), (4, 3), (5, 2), (6, 1)), \n",
        "                                 ((0, 4), (1, 5), (5, 9)), ((1, 5), (3, 6), (5, 7), (7, 8)), \n",
        "                                 ((1, 6), (3, 3), (5, 0)), ((3, 6), (4, 3), (5, 0)), \n",
        "                                 ((1, 2), (4, 5), (7, 8), (8, 9)), ((0, 2), (1, 1), (2, 0)), \n",
        "                                 ((3, 3), (4, 5), (5, 7), (6, 9)), ((0, 2), (0, 3), (0, 4), (0, 5), (0, 7), (0, 8)), \n",
        "                                 ((2, 0), (4, 3), (8, 9)), ((5, 7), (6, 5), (7, 3), (8, 1)), ((5, 0), (7, 6), (8, 9)), \n",
        "                                 ((5, 0), (6, 1), (7, 2), (9, 4)), ((0, 4), (1, 2), (2, 0)), \n",
        "                                 ((1, 1), (3, 1), (6, 1), (8, 1)), ((5, 7), (7, 6), (9, 5)), ((1, 1), (7, 4), (9, 5)), \n",
        "                                 ((0, 4), (2, 4), (7, 4), (9, 4)), ((1, 0), (3, 1), (5, 2), (7, 3), (9, 4)), \n",
        "                                 ((2, 0), (3, 3), (4, 6), (5, 9)), ((4, 3), (4, 5), (4, 6)), \n",
        "                                 ((1, 0), (4, 3), (6, 5), (7, 6)), ((0, 3), (2, 4), (4, 5)), \n",
        "                                 ((1, 6), (4, 5), (7, 4)), ((1, 0), (1, 1), (1, 2), (1, 3), (1, 5), (1, 6), (1, 8)), \n",
        "                                 ((0, 3), (1, 3), (3, 3), (4, 3), (7, 3), (9, 3)), ((0, 4), (2, 5), (4, 6)), \n",
        "                                 ((0, 7), (3, 6), (6, 5), (9, 4)), ((1, 8), (4, 6), (7, 4)), \n",
        "                                 ((0, 5), (3, 3), (6, 1)), ((1, 8), (3, 6), (4, 5), (7, 2), (8, 1)), \n",
        "                                 ((1, 2), (3, 1), (5, 0)), ((1, 1), (5, 2), (9, 3)), \n",
        "                                 ((5, 0), (5, 2), (5, 7), (5, 9)), ((0, 5), (1, 5), (2, 5), (4, 5), (6, 5), (9, 5)), \n",
        "                                 ((3, 1), (4, 5), (5, 9)), ((2, 0), (2, 4), (2, 5)), ((5, 2), (6, 5), (7, 8))}, \"Your implementation of build_collinear_set is not correct.\""
      ],
      "execution_count": 0,
      "outputs": []
    },
    {
      "metadata": {
        "deletable": false,
        "editable": false,
        "hidden": true,
        "nbgrader": {
          "checksum": "f349a62471f5026fec0784299ef65cc5",
          "grade": true,
          "grade_id": "Collinear_soln_hidden1",
          "locked": false,
          "points": 8,
          "schema_version": 1,
          "solution": false
        },
        "id": "Og4Ljzb34zNv",
        "colab_type": "code",
        "colab": {}
      },
      "cell_type": "code",
      "source": [
        "##Hidden test cases here"
      ],
      "execution_count": 0,
      "outputs": []
    },
    {
      "metadata": {
        "deletable": false,
        "editable": false,
        "hidden": true,
        "nbgrader": {
          "checksum": "0b07d77f4d88c302f9568ad92986a4d6",
          "grade": true,
          "grade_id": "Collinear_soln_hidden2",
          "locked": false,
          "points": 8,
          "schema_version": 1,
          "solution": false
        },
        "id": "3AMKBr6Y4zN0",
        "colab_type": "code",
        "colab": {}
      },
      "cell_type": "code",
      "source": [
        "##Hidden test cases here"
      ],
      "execution_count": 0,
      "outputs": []
    },
    {
      "metadata": {
        "deletable": false,
        "editable": false,
        "hidden": true,
        "nbgrader": {
          "checksum": "56dada29e6f9b7ebfb9c900fa26922d5",
          "grade": true,
          "grade_id": "Collinear_soln_hidden3",
          "locked": false,
          "points": 8,
          "schema_version": 1,
          "solution": false
        },
        "id": "C6fKDuwP4zN7",
        "colab_type": "code",
        "colab": {}
      },
      "cell_type": "code",
      "source": [
        "##Hidden test cases here"
      ],
      "execution_count": 0,
      "outputs": []
    },
    {
      "metadata": {
        "deletable": false,
        "editable": false,
        "hidden": true,
        "nbgrader": {
          "checksum": "ab85358924c29e438a037d8c8291358a",
          "grade": true,
          "grade_id": "Collinear_soln_hidden4",
          "locked": false,
          "points": 8,
          "schema_version": 1,
          "solution": false
        },
        "id": "STNZP-WP4zN-",
        "colab_type": "code",
        "colab": {}
      },
      "cell_type": "code",
      "source": [
        "##Hidden test cases here"
      ],
      "execution_count": 0,
      "outputs": []
    }
  ]
}