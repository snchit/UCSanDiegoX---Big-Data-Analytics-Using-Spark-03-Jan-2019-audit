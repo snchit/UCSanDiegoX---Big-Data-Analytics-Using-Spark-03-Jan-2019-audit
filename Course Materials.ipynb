{
  "nbformat": 4,
  "nbformat_minor": 0,
  "metadata": {
    "colab": {
      "name": "Download Course Materials.ipynb",
      "version": "0.3.2",
      "provenance": [],
      "include_colab_link": true
    },
    "kernelspec": {
      "name": "python3",
      "display_name": "Python 3"
    },
    "accelerator": "GPU"
  },
  "cells": [
    {
      "cell_type": "markdown",
      "metadata": {
        "id": "view-in-github",
        "colab_type": "text"
      },
      "source": [
        "<a href=\"https://colab.research.google.com/github/Data-Science-and-Data-Analytics-Courses/UCSanDiegoX---Big-Data-Analytics-Using-Spark-03-Jan-2019-audit/blob/master/Course%20Materials.ipynb\" target=\"_parent\"><img src=\"https://colab.research.google.com/assets/colab-badge.svg\" alt=\"Open In Colab\"/></a>"
      ]
    },
    {
      "metadata": {
        "colab_type": "text",
        "id": "UdDQ4H0VmPpJ"
      },
      "cell_type": "markdown",
      "source": [
        "# Clone remote"
      ]
    },
    {
      "metadata": {
        "colab_type": "code",
        "id": "cXqTKogHXEr9",
        "outputId": "afeae549-8f3c-4d52-cd5d-a870b583998e",
        "colab": {
          "base_uri": "https://localhost:8080/",
          "height": 224
        }
      },
      "cell_type": "code",
      "source": [
        "import os, sys\n",
        "from google.colab import drive\n",
        "from urllib.parse import urlsplit\n",
        "from pathlib import Path\n",
        "\n",
        "URL = \"https://github.com/Data-Science-and-Data-Analytics-Courses/UCSanDiegoX---Big-Data-Analytics-Using-Spark-03-Jan-2019-audit\"\n",
        "DRIVE = Path(\"/drive\", \"My Drive\")\n",
        "\n",
        "def clone(url, dest=\".\", name=\"\", options=\"--single-branch -b master\", reloc=True):\n",
        "  \"\"\"\n",
        "  Clone url into dest\n",
        "  name: if provided, rename repository\n",
        "  options: supported by git-clone (https://git-scm.com/docs/git-clone)\n",
        "  reloc: if True, relocate to repository\n",
        "  \"\"\"\n",
        "\n",
        "  rurl = urlsplit(url)\n",
        "  dest = Path(dest).resolve()\n",
        "  repo = dest / (name or Path(rurl.path).name)\n",
        "\n",
        "  # Nested repositories not allowed\n",
        "  out = !git -C \"{dest}\" rev-parse\n",
        "  if not out: # inside repository\n",
        "    raise ValueError(\"Can't clone into existing repository\")\n",
        "  \n",
        "  # Clone\n",
        "  !git clone {options} \"{rurl.geturl()}\" \"{repo}\"\n",
        "  \n",
        "  # Relocate\n",
        "  if reloc:\n",
        "    os.chdir(repo)\n",
        "\n",
        "  return repo\n",
        "  \n",
        "REPO = clone(URL)\n",
        "sys.path.append(REPO)\n",
        "drive.mount(DRIVE.parent)"
      ],
      "execution_count": 1,
      "outputs": [
        {
          "output_type": "stream",
          "text": [
            "Cloning into '/content/UCSanDiegoX---Big-Data-Analytics-Using-Spark-03-Jan-2019-audit'...\n",
            "remote: Enumerating objects: 36, done.\u001b[K\n",
            "remote: Counting objects:   2% (1/36)   \u001b[K\rremote: Counting objects:   5% (2/36)   \u001b[K\rremote: Counting objects:   8% (3/36)   \u001b[K\rremote: Counting objects:  11% (4/36)   \u001b[K\rremote: Counting objects:  13% (5/36)   \u001b[K\rremote: Counting objects:  16% (6/36)   \u001b[K\rremote: Counting objects:  19% (7/36)   \u001b[K\rremote: Counting objects:  22% (8/36)   \u001b[K\rremote: Counting objects:  25% (9/36)   \u001b[K\rremote: Counting objects:  27% (10/36)   \u001b[K\rremote: Counting objects:  30% (11/36)   \u001b[K\rremote: Counting objects:  33% (12/36)   \u001b[K\rremote: Counting objects:  36% (13/36)   \u001b[K\rremote: Counting objects:  38% (14/36)   \u001b[K\rremote: Counting objects:  41% (15/36)   \u001b[K\rremote: Counting objects:  44% (16/36)   \u001b[K\rremote: Counting objects:  47% (17/36)   \u001b[K\rremote: Counting objects:  50% (18/36)   \u001b[K\rremote: Counting objects:  52% (19/36)   \u001b[K\rremote: Counting objects:  55% (20/36)   \u001b[K\rremote: Counting objects:  58% (21/36)   \u001b[K\rremote: Counting objects:  61% (22/36)   \u001b[K\rremote: Counting objects:  63% (23/36)   \u001b[K\rremote: Counting objects:  66% (24/36)   \u001b[K\rremote: Counting objects:  69% (25/36)   \u001b[K\rremote: Counting objects:  72% (26/36)   \u001b[K\rremote: Counting objects:  75% (27/36)   \u001b[K\rremote: Counting objects:  77% (28/36)   \u001b[K\rremote: Counting objects:  80% (29/36)   \u001b[K\rremote: Counting objects:  83% (30/36)   \u001b[K\rremote: Counting objects:  86% (31/36)   \u001b[K\rremote: Counting objects:  88% (32/36)   \u001b[K\rremote: Counting objects:  91% (33/36)   \u001b[K\rremote: Counting objects:  94% (34/36)   \u001b[K\rremote: Counting objects:  97% (35/36)   \u001b[K\rremote: Counting objects: 100% (36/36)   \u001b[K\rremote: Counting objects: 100% (36/36), done.\u001b[K\n",
            "remote: Compressing objects:   2% (1/35)   \u001b[K\rremote: Compressing objects:   5% (2/35)   \u001b[K\rremote: Compressing objects:   8% (3/35)   \u001b[K\rremote: Compressing objects:  11% (4/35)   \u001b[K\rremote: Compressing objects:  14% (5/35)   \u001b[K\rremote: Compressing objects:  17% (6/35)   \u001b[K\rremote: Compressing objects:  20% (7/35)   \u001b[K\rremote: Compressing objects:  22% (8/35)   \u001b[K\rremote: Compressing objects:  25% (9/35)   \u001b[K\rremote: Compressing objects:  28% (10/35)   \u001b[K\rremote: Compressing objects:  31% (11/35)   \u001b[K\rremote: Compressing objects:  34% (12/35)   \u001b[K\rremote: Compressing objects:  37% (13/35)   \u001b[K\rremote: Compressing objects:  40% (14/35)   \u001b[K\rremote: Compressing objects:  42% (15/35)   \u001b[K\rremote: Compressing objects:  45% (16/35)   \u001b[K\rremote: Compressing objects:  48% (17/35)   \u001b[K\rremote: Compressing objects:  51% (18/35)   \u001b[K\rremote: Compressing objects:  54% (19/35)   \u001b[K\rremote: Compressing objects:  57% (20/35)   \u001b[K\rremote: Compressing objects:  60% (21/35)   \u001b[K\rremote: Compressing objects:  62% (22/35)   \u001b[K\rremote: Compressing objects:  65% (23/35)   \u001b[K\rremote: Compressing objects:  68% (24/35)   \u001b[K\rremote: Compressing objects:  71% (25/35)   \u001b[K\rremote: Compressing objects:  74% (26/35)   \u001b[K\rremote: Compressing objects:  77% (27/35)   \u001b[K\rremote: Compressing objects:  80% (28/35)   \u001b[K\rremote: Compressing objects:  82% (29/35)   \u001b[K\rremote: Compressing objects:  85% (30/35)   \u001b[K\rremote: Compressing objects:  88% (31/35)   \u001b[K\rremote: Compressing objects:  91% (32/35)   \u001b[K\rremote: Compressing objects:  94% (33/35)   \u001b[K\rremote: Compressing objects:  97% (34/35)   \u001b[K\rremote: Compressing objects: 100% (35/35)   \u001b[K\rremote: Compressing objects: 100% (35/35), done.\u001b[K\n",
            "remote: Total 36 (delta 16), reused 5 (delta 1), pack-reused 0\u001b[K\n",
            "Unpacking objects:   2% (1/36)   \rUnpacking objects:   5% (2/36)   \rUnpacking objects:   8% (3/36)   \rUnpacking objects:  11% (4/36)   \rUnpacking objects:  13% (5/36)   \rUnpacking objects:  16% (6/36)   \rUnpacking objects:  19% (7/36)   \rUnpacking objects:  22% (8/36)   \rUnpacking objects:  25% (9/36)   \rUnpacking objects:  27% (10/36)   \rUnpacking objects:  30% (11/36)   \rUnpacking objects:  33% (12/36)   \rUnpacking objects:  36% (13/36)   \rUnpacking objects:  38% (14/36)   \rUnpacking objects:  41% (15/36)   \rUnpacking objects:  44% (16/36)   \rUnpacking objects:  47% (17/36)   \rUnpacking objects:  50% (18/36)   \rUnpacking objects:  52% (19/36)   \rUnpacking objects:  55% (20/36)   \rUnpacking objects:  58% (21/36)   \rUnpacking objects:  61% (22/36)   \rUnpacking objects:  63% (23/36)   \rUnpacking objects:  66% (24/36)   \rUnpacking objects:  69% (25/36)   \rUnpacking objects:  72% (26/36)   \rUnpacking objects:  75% (27/36)   \rUnpacking objects:  77% (28/36)   \rUnpacking objects:  80% (29/36)   \rUnpacking objects:  83% (30/36)   \rUnpacking objects:  86% (31/36)   \rUnpacking objects:  88% (32/36)   \rUnpacking objects:  91% (33/36)   \rUnpacking objects:  94% (34/36)   \rUnpacking objects:  97% (35/36)   \rUnpacking objects: 100% (36/36)   \rUnpacking objects: 100% (36/36), done.\n",
            "Go to this URL in a browser: https://accounts.google.com/o/oauth2/auth?client_id=947318989803-6bn6qk8qdgf4n4g3pfee6491hc0brc4i.apps.googleusercontent.com&redirect_uri=urn%3Aietf%3Awg%3Aoauth%3A2.0%3Aoob&scope=email%20https%3A%2F%2Fwww.googleapis.com%2Fauth%2Fdocs.test%20https%3A%2F%2Fwww.googleapis.com%2Fauth%2Fdrive%20https%3A%2F%2Fwww.googleapis.com%2Fauth%2Fdrive.photos.readonly%20https%3A%2F%2Fwww.googleapis.com%2Fauth%2Fpeopleapi.readonly&response_type=code\n",
            "\n",
            "Enter your authorization code:\n",
            "··········\n",
            "Mounted at /drive\n"
          ],
          "name": "stdout"
        }
      ]
    },
    {
      "metadata": {
        "id": "fRrOetKsg-RC",
        "colab_type": "text"
      },
      "cell_type": "markdown",
      "source": [
        "# Import libraries"
      ]
    },
    {
      "metadata": {
        "id": "XfwrINzwdmkn",
        "colab_type": "code",
        "outputId": "e6734e2b-2d56-4837-acab-64177bb2c5c6",
        "colab": {
          "base_uri": "https://localhost:8080/",
          "height": 51
        }
      },
      "cell_type": "code",
      "source": [
        "%run \"{REPO/'.Importable.ipynb'}\"\n",
        "from Packages import Git, Files"
      ],
      "execution_count": 2,
      "outputs": [
        {
          "output_type": "display_data",
          "data": {
            "text/html": [
              "\n",
              "<style type='text/css'>\n",
              ".hll { background-color: #ffffcc }\n",
              ".c { color: #408080; font-style: italic } /* Comment */\n",
              ".err { border: 1px solid #FF0000 } /* Error */\n",
              ".k { color: #008000; font-weight: bold } /* Keyword */\n",
              ".o { color: #666666 } /* Operator */\n",
              ".ch { color: #408080; font-style: italic } /* Comment.Hashbang */\n",
              ".cm { color: #408080; font-style: italic } /* Comment.Multiline */\n",
              ".cp { color: #BC7A00 } /* Comment.Preproc */\n",
              ".cpf { color: #408080; font-style: italic } /* Comment.PreprocFile */\n",
              ".c1 { color: #408080; font-style: italic } /* Comment.Single */\n",
              ".cs { color: #408080; font-style: italic } /* Comment.Special */\n",
              ".gd { color: #A00000 } /* Generic.Deleted */\n",
              ".ge { font-style: italic } /* Generic.Emph */\n",
              ".gr { color: #FF0000 } /* Generic.Error */\n",
              ".gh { color: #000080; font-weight: bold } /* Generic.Heading */\n",
              ".gi { color: #00A000 } /* Generic.Inserted */\n",
              ".go { color: #888888 } /* Generic.Output */\n",
              ".gp { color: #000080; font-weight: bold } /* Generic.Prompt */\n",
              ".gs { font-weight: bold } /* Generic.Strong */\n",
              ".gu { color: #800080; font-weight: bold } /* Generic.Subheading */\n",
              ".gt { color: #0044DD } /* Generic.Traceback */\n",
              ".kc { color: #008000; font-weight: bold } /* Keyword.Constant */\n",
              ".kd { color: #008000; font-weight: bold } /* Keyword.Declaration */\n",
              ".kn { color: #008000; font-weight: bold } /* Keyword.Namespace */\n",
              ".kp { color: #008000 } /* Keyword.Pseudo */\n",
              ".kr { color: #008000; font-weight: bold } /* Keyword.Reserved */\n",
              ".kt { color: #B00040 } /* Keyword.Type */\n",
              ".m { color: #666666 } /* Literal.Number */\n",
              ".s { color: #BA2121 } /* Literal.String */\n",
              ".na { color: #7D9029 } /* Name.Attribute */\n",
              ".nb { color: #008000 } /* Name.Builtin */\n",
              ".nc { color: #0000FF; font-weight: bold } /* Name.Class */\n",
              ".no { color: #880000 } /* Name.Constant */\n",
              ".nd { color: #AA22FF } /* Name.Decorator */\n",
              ".ni { color: #999999; font-weight: bold } /* Name.Entity */\n",
              ".ne { color: #D2413A; font-weight: bold } /* Name.Exception */\n",
              ".nf { color: #0000FF } /* Name.Function */\n",
              ".nl { color: #A0A000 } /* Name.Label */\n",
              ".nn { color: #0000FF; font-weight: bold } /* Name.Namespace */\n",
              ".nt { color: #008000; font-weight: bold } /* Name.Tag */\n",
              ".nv { color: #19177C } /* Name.Variable */\n",
              ".ow { color: #AA22FF; font-weight: bold } /* Operator.Word */\n",
              ".w { color: #bbbbbb } /* Text.Whitespace */\n",
              ".mb { color: #666666 } /* Literal.Number.Bin */\n",
              ".mf { color: #666666 } /* Literal.Number.Float */\n",
              ".mh { color: #666666 } /* Literal.Number.Hex */\n",
              ".mi { color: #666666 } /* Literal.Number.Integer */\n",
              ".mo { color: #666666 } /* Literal.Number.Oct */\n",
              ".sb { color: #BA2121 } /* Literal.String.Backtick */\n",
              ".sc { color: #BA2121 } /* Literal.String.Char */\n",
              ".sd { color: #BA2121; font-style: italic } /* Literal.String.Doc */\n",
              ".s2 { color: #BA2121 } /* Literal.String.Double */\n",
              ".se { color: #BB6622; font-weight: bold } /* Literal.String.Escape */\n",
              ".sh { color: #BA2121 } /* Literal.String.Heredoc */\n",
              ".si { color: #BB6688; font-weight: bold } /* Literal.String.Interpol */\n",
              ".sx { color: #008000 } /* Literal.String.Other */\n",
              ".sr { color: #BB6688 } /* Literal.String.Regex */\n",
              ".s1 { color: #BA2121 } /* Literal.String.Single */\n",
              ".ss { color: #19177C } /* Literal.String.Symbol */\n",
              ".bp { color: #008000 } /* Name.Builtin.Pseudo */\n",
              ".vc { color: #19177C } /* Name.Variable.Class */\n",
              ".vg { color: #19177C } /* Name.Variable.Global */\n",
              ".vi { color: #19177C } /* Name.Variable.Instance */\n",
              ".il { color: #666666 } /* Literal.Number.Integer.Long */\n",
              "</style>\n"
            ],
            "text/plain": [
              "<IPython.core.display.HTML object>"
            ]
          },
          "metadata": {
            "tags": []
          }
        },
        {
          "output_type": "stream",
          "text": [
            "importing Jupyter notebook from /content/UCSanDiegoX---Big-Data-Analytics-Using-Spark-03-Jan-2019-audit/Packages/Git.ipynb\n",
            "importing Jupyter notebook from /content/UCSanDiegoX---Big-Data-Analytics-Using-Spark-03-Jan-2019-audit/Packages/Files.ipynb\n"
          ],
          "name": "stdout"
        }
      ]
    },
    {
      "metadata": {
        "colab_type": "text",
        "id": "5sl8tFrDP67Z"
      },
      "cell_type": "markdown",
      "source": [
        "# Download"
      ]
    },
    {
      "metadata": {
        "id": "ORA_qxjTnZKg",
        "colab_type": "text"
      },
      "cell_type": "markdown",
      "source": [
        "## Map-Reduce and Spark (Weeks 1 & 2)"
      ]
    },
    {
      "metadata": {
        "id": "4gWwsdjJnpok",
        "colab_type": "code",
        "colab": {
          "base_uri": "https://localhost:8080/",
          "height": 153
        },
        "outputId": "54be95ce-6eef-4f93-c9e6-d0a1e5699bb5"
      },
      "cell_type": "code",
      "source": [
        "urls = {\"pa1.tgz\": \"https://prod-edxapp.edx-cdn.org/assets/courseware/v1/3541a6c854381a1c22a7646815826600/asset-v1:UCSanDiegoX+DSE230x+1T2019+type@asset+block/pa1.tgz\"}\n",
        "dest = \"Map-Reduce and Spark (Weeks 1 & 2)\"\n",
        "Files.runtar(urls[\"pa1.tgz\"], dest)"
      ],
      "execution_count": 3,
      "outputs": [
        {
          "output_type": "execute_result",
          "data": {
            "text/plain": [
              "[PosixPath('/content/UCSanDiegoX---Big-Data-Analytics-Using-Spark-03-Jan-2019-audit/Map-Reduce and Spark (Weeks 1 & 2)/pa1'),\n",
              " PosixPath('/content/UCSanDiegoX---Big-Data-Analytics-Using-Spark-03-Jan-2019-audit/Map-Reduce and Spark (Weeks 1 & 2)/pa1/._.DS_Store'),\n",
              " PosixPath('/content/UCSanDiegoX---Big-Data-Analytics-Using-Spark-03-Jan-2019-audit/Map-Reduce and Spark (Weeks 1 & 2)/pa1/.DS_Store'),\n",
              " PosixPath('/content/UCSanDiegoX---Big-Data-Analytics-Using-Spark-03-Jan-2019-audit/Map-Reduce and Spark (Weeks 1 & 2)/pa1/.ipynb_checkpoints'),\n",
              " PosixPath('/content/UCSanDiegoX---Big-Data-Analytics-Using-Spark-03-Jan-2019-audit/Map-Reduce and Spark (Weeks 1 & 2)/pa1/collinearPoints.ipynb'),\n",
              " PosixPath('/content/UCSanDiegoX---Big-Data-Analytics-Using-Spark-03-Jan-2019-audit/Map-Reduce and Spark (Weeks 1 & 2)/pa1/data.txt'),\n",
              " PosixPath('/content/UCSanDiegoX---Big-Data-Analytics-Using-Spark-03-Jan-2019-audit/Map-Reduce and Spark (Weeks 1 & 2)/pa1/data50.txt'),\n",
              " PosixPath('/content/UCSanDiegoX---Big-Data-Analytics-Using-Spark-03-Jan-2019-audit/Map-Reduce and Spark (Weeks 1 & 2)/pa1/non-collinear-points.jpg')]"
            ]
          },
          "metadata": {
            "tags": []
          },
          "execution_count": 3
        }
      ]
    },
    {
      "metadata": {
        "id": "7ILM4JyuLzue",
        "colab_type": "text"
      },
      "cell_type": "markdown",
      "source": [
        "# Push repository"
      ]
    },
    {
      "metadata": {
        "id": "RqifDMhBglwC",
        "colab_type": "code",
        "outputId": "78da616c-b91c-4444-8341-9e6cfa59cb69",
        "colab": {
          "base_uri": "https://localhost:8080/",
          "height": 289
        }
      },
      "cell_type": "code",
      "source": [
        "message = \"Update Weeks 1&2\"\n",
        "confile = DRIVE.joinpath(\"GitHub/config.json\") # path to configuration file\n",
        "logfile = DRIVE.joinpath(\"GitHub/login.json\") # path to log-in file\n",
        "\n",
        "# Configure\n",
        "Git.config(confile=confile)\n",
        "\n",
        "# Track\n",
        "!git add -A\n",
        "\n",
        "# Commit\n",
        "!git commit -m \"$message\"\n",
        "\n",
        "# Push\n",
        "Git.push(URL, logfile=logfile)"
      ],
      "execution_count": 4,
      "outputs": [
        {
          "output_type": "stream",
          "text": [
            "[master f1f2b8f] Update Weeks 1&2\n",
            " 6 files changed, 1966 insertions(+)\n",
            " create mode 100644 Map-Reduce and Spark (Weeks 1 & 2)/pa1/.DS_Store\n",
            " create mode 100644 Map-Reduce and Spark (Weeks 1 & 2)/pa1/._.DS_Store\n",
            " create mode 100644 Map-Reduce and Spark (Weeks 1 & 2)/pa1/collinearPoints.ipynb\n",
            " create mode 100644 Map-Reduce and Spark (Weeks 1 & 2)/pa1/data.txt\n",
            " create mode 100644 Map-Reduce and Spark (Weeks 1 & 2)/pa1/data50.txt\n",
            " create mode 100644 Map-Reduce and Spark (Weeks 1 & 2)/pa1/non-collinear-points.jpg\n",
            "Counting objects: 10, done.\n",
            "Delta compression using up to 2 threads.\n",
            "Compressing objects: 100% (8/8), done.\n",
            "Writing objects: 100% (10/10), 18.23 KiB | 9.11 MiB/s, done.\n",
            "Total 10 (delta 1), reused 0 (delta 0)\n",
            "remote: Resolving deltas: 100% (1/1), completed with 1 local object.\u001b[K\n",
            "To https://github.com/Data-Science-and-Data-Analytics-Courses/UCSanDiegoX---Big-Data-Analytics-Using-Spark-03-Jan-2019-audit\n",
            "   b36aa33..f1f2b8f  HEAD -> master\n"
          ],
          "name": "stdout"
        }
      ]
    }
  ]
}